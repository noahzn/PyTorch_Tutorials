{
 "cells": [
  {
   "cell_type": "code",
   "execution_count": 8,
   "metadata": {
    "collapsed": false
   },
   "outputs": [
    {
     "name": "stdout",
     "output_type": "stream",
     "text": [
      "\n",
      " 9.3939e-01  4.5695e-41  9.3939e-01\n",
      " 4.5695e-41  7.4409e+28  1.9863e+29\n",
      " 7.5556e+31  1.8987e+28  7.2251e+28\n",
      " 4.5077e+27  7.6831e+31  4.7429e+30\n",
      " 6.6641e-33  1.6020e-19  4.4721e+21\n",
      "[torch.FloatTensor of size 5x3]\n",
      "\n"
     ]
    }
   ],
   "source": [
    "from __future__ import print_function\n",
    "import torch\n",
    "\n",
    "x = torch.Tensor(5, 3)\n",
    "print(x)"
   ]
  },
  {
   "cell_type": "code",
   "execution_count": 9,
   "metadata": {
    "collapsed": false
   },
   "outputs": [
    {
     "name": "stdout",
     "output_type": "stream",
     "text": [
      "\n",
      " 0.5289  0.9497  0.0325\n",
      " 0.6266  0.3596  0.7569\n",
      " 0.6103  0.5297  0.4117\n",
      " 0.9935  0.2355  0.7538\n",
      " 0.7889  0.8576  0.6535\n",
      "[torch.FloatTensor of size 5x3]\n",
      "\n"
     ]
    }
   ],
   "source": [
    "x = torch.rand(5, 3)\n",
    "print(x)"
   ]
  },
  {
   "cell_type": "code",
   "execution_count": 12,
   "metadata": {
    "collapsed": false
   },
   "outputs": [
    {
     "data": {
      "text/plain": [
       "\n",
       " 0.2403  0.9904  0.7697\n",
       " 0.8065  0.2066  0.2002\n",
       " 0.4138  0.2445  0.8902\n",
       " 0.7316  0.1736  0.0586\n",
       " 0.5449  0.9972  0.3491\n",
       "[torch.FloatTensor of size 5x3]"
      ]
     },
     "execution_count": 12,
     "metadata": {},
     "output_type": "execute_result"
    }
   ],
   "source": [
    "y = torch.rand(5, 3)\n",
    "y"
   ]
  },
  {
   "cell_type": "code",
   "execution_count": 14,
   "metadata": {
    "collapsed": false
   },
   "outputs": [
    {
     "data": {
      "text/plain": [
       "\n",
       " 0.7692  1.9401  0.8022\n",
       " 1.4331  0.5662  0.9572\n",
       " 1.0241  0.7743  1.3019\n",
       " 1.7251  0.4091  0.8124\n",
       " 1.3338  1.8548  1.0026\n",
       "[torch.FloatTensor of size 5x3]"
      ]
     },
     "execution_count": 14,
     "metadata": {},
     "output_type": "execute_result"
    }
   ],
   "source": [
    "result1 =  x + y\n",
    "result1"
   ]
  },
  {
   "cell_type": "code",
   "execution_count": 25,
   "metadata": {
    "collapsed": false
   },
   "outputs": [
    {
     "data": {
      "text/plain": [
       "\n",
       " 0.7692  1.9401  0.8022\n",
       " 1.4331  0.5662  0.9572\n",
       " 1.0241  0.7743  1.3019\n",
       " 1.7251  0.4091  0.8124\n",
       " 1.3338  1.8548  1.0026\n",
       "[torch.cuda.FloatTensor of size 5x3 (GPU 0)]"
      ]
     },
     "execution_count": 25,
     "metadata": {},
     "output_type": "execute_result"
    }
   ],
   "source": [
    "a = torch.ones(5)\n",
    "a.size()\n",
    "b = a.numpy()\n",
    "x = x.cuda()\n",
    "y = y.cuda()\n",
    "x+y"
   ]
  }
 ],
 "metadata": {
  "anaconda-cloud": {},
  "kernelspec": {
   "display_name": "Python [default]",
   "language": "python",
   "name": "python3"
  },
  "language_info": {
   "codemirror_mode": {
    "name": "ipython",
    "version": 3
   },
   "file_extension": ".py",
   "mimetype": "text/x-python",
   "name": "python",
   "nbconvert_exporter": "python",
   "pygments_lexer": "ipython3",
   "version": "3.5.2"
  }
 },
 "nbformat": 4,
 "nbformat_minor": 1
}
